{
 "cells": [
  {
   "cell_type": "markdown",
   "id": "d3c5ed8b",
   "metadata": {},
   "source": [
    "31218_정윤호_0313_34"
   ]
  },
  {
   "cell_type": "markdown",
   "id": "cd548ecf",
   "metadata": {},
   "source": [
    "입력명령어\n",
    "### 입력명령어 형식\n",
    "> inpit('입력안내문')"
   ]
  },
  {
   "cell_type": "code",
   "execution_count": 1,
   "id": "f84381b2",
   "metadata": {},
   "outputs": [
    {
     "name": "stdout",
     "output_type": "stream",
     "text": [
      "정윤호\n"
     ]
    },
    {
     "data": {
      "text/plain": [
       "'정윤호'"
      ]
     },
     "execution_count": 1,
     "metadata": {},
     "output_type": "execute_result"
    }
   ],
   "source": [
    "# 기본형식\n",
    "input()"
   ]
  },
  {
   "cell_type": "code",
   "execution_count": 4,
   "id": "ee027205",
   "metadata": {},
   "outputs": [
    {
     "name": "stdout",
     "output_type": "stream",
     "text": [
      "2023\n",
      "<class 'int'>\n"
     ]
    }
   ],
   "source": [
    "# 변수를 이용한 입력\n",
    "a = int(input())\n",
    "print(type(a))"
   ]
  },
  {
   "cell_type": "code",
   "execution_count": 6,
   "id": "f7319e94",
   "metadata": {},
   "outputs": [
    {
     "name": "stdout",
     "output_type": "stream",
     "text": [
      "아이디 : jong\n",
      "비밀번호 : 1234\n",
      "아이디는 : jong\n",
      "비밀번호는 : 1234\n"
     ]
    }
   ],
   "source": [
    "id = input('아이디 : ')\n",
    "password = input('비밀번호 : ')\n",
    "print('아이디는 : '+id )\n",
    "print('비밀번호는 : '+password)"
   ]
  },
  {
   "cell_type": "markdown",
   "id": "d4880ddb",
   "metadata": {},
   "source": [
    "출력\n",
    "'''\n",
    "\n",
    "---성일 웹사이트 회원가입 ---\n",
    "아이디 : \n",
    "000님 웹사이트 가입을 환영합니다.!!!"
   ]
  },
  {
   "cell_type": "code",
   "execution_count": 10,
   "id": "3dfc646e",
   "metadata": {
    "scrolled": true
   },
   "outputs": [
    {
     "name": "stdout",
     "output_type": "stream",
     "text": [
      "``` 성일 웹사이트 회원가입 ```\n",
      "아이디 : jong\n",
      "jong 님 웹사이트 가입을 환영합니다.!!!\n"
     ]
    }
   ],
   "source": [
    "print('``` 성일 웹사이트 회원가입 ```')\n",
    "id = input('아이디 : ')\n",
    "print(id +' 님 웹사이트 가입을 환영합니다.!!!')"
   ]
  },
  {
   "cell_type": "markdown",
   "id": "95f5ca32",
   "metadata": {},
   "source": [
    "### 1.변수\n",
    "변수이름 = 저장할 데이터\n"
   ]
  },
  {
   "cell_type": "code",
   "execution_count": 13,
   "id": "2f612ad3",
   "metadata": {},
   "outputs": [
    {
     "name": "stdout",
     "output_type": "stream",
     "text": [
      "안녕 하세요\n",
      "안녕하세요\n"
     ]
    }
   ],
   "source": [
    "# 변수를 이용한 출력\n",
    "a = '안녕'\n",
    "b = '하세요'\n",
    "print(a,b)\n",
    "print(a+b)\n"
   ]
  },
  {
   "cell_type": "code",
   "execution_count": 14,
   "id": "3051f3fa",
   "metadata": {},
   "outputs": [
    {
     "name": "stdout",
     "output_type": "stream",
     "text": [
      "고등학생\n"
     ]
    }
   ],
   "source": [
    "c = '학생'\n",
    "d = '고등'\n",
    "e = '대'\n",
    "print(d+c)"
   ]
  },
  {
   "cell_type": "markdown",
   "id": "c0040886",
   "metadata": {},
   "source": [
    "### 변수를 활용하여 연산하기\n",
    "1) 과일 가격 계산하기"
   ]
  },
  {
   "cell_type": "code",
   "execution_count": 21,
   "id": "d8228acf",
   "metadata": {},
   "outputs": [
    {
     "name": "stdout",
     "output_type": "stream",
     "text": [
      "7800\n"
     ]
    }
   ],
   "source": [
    "apple = 1200\n",
    "banana = 800\n",
    "kiwi = 1700\n",
    "\n",
    "#사과3개바나나1개 키위2개 구매한 가격은 ?\n",
    "price = apple*3 + banana*1 + kiwi*2\n",
    "print(price)\n",
    "\n"
   ]
  },
  {
   "cell_type": "markdown",
   "id": "404ef6d3",
   "metadata": {},
   "source": [
    "vip는 20% 할인된다. 동일한 물건을 구매했을 때 vip가 내는 가격을 새로운 변수에 저장하여 출력하기"
   ]
  },
  {
   "cell_type": "code",
   "execution_count": 22,
   "id": "e10855f0",
   "metadata": {},
   "outputs": [
    {
     "name": "stdout",
     "output_type": "stream",
     "text": [
      "vip가 되시면 7800 원을 6240.0 원을 구매 가능합니다.!!!\n"
     ]
    }
   ],
   "source": [
    "vip_price = price *0.8\n",
    "print('vip가 되시면',price,'원을', vip_price,'원을 구매 가능합니다.!!!')\n"
   ]
  },
  {
   "cell_type": "markdown",
   "id": "db128bb1",
   "metadata": {},
   "source": [
    "2) 1년 마다 키가10cm씩 자라는 농구선수가 있다.\n",
    "\n",
    ".2017년 - 175.5cm\n",
    ".2018년 - 185.5cm\n",
    ".2019년 - 195.5cm\n",
    ".2020년 - 205.5cm\n",
    " \n",
    " 년도별 농구선수의 키를 출력해보자"
   ]
  },
  {
   "cell_type": "code",
   "execution_count": 42,
   "id": "507203cd",
   "metadata": {
    "scrolled": true
   },
   "outputs": [
    {
     "name": "stdout",
     "output_type": "stream",
     "text": [
      "2017년 175.5cm\n",
      "2018년 185.5cm\n",
      "2019년 195.5cm\n",
      "2020년 205.5cm\n"
     ]
    }
   ],
   "source": [
    "print('2017년 175.5cm')\n",
    "print('2018년 185.5cm')\n",
    "print('2019년 195.5cm')\n",
    "print('2020년 205.5cm')"
   ]
  },
  {
   "cell_type": "code",
   "execution_count": null,
   "id": "0bae878a",
   "metadata": {},
   "outputs": [],
   "source": []
  }
 ],
 "metadata": {
  "kernelspec": {
   "display_name": "Python 3 (ipykernel)",
   "language": "python",
   "name": "python3"
  },
  "language_info": {
   "codemirror_mode": {
    "name": "ipython",
    "version": 3
   },
   "file_extension": ".py",
   "mimetype": "text/x-python",
   "name": "python",
   "nbconvert_exporter": "python",
   "pygments_lexer": "ipython3",
   "version": "3.9.7"
  }
 },
 "nbformat": 4,
 "nbformat_minor": 5
}
