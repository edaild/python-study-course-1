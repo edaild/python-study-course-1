{
 "cells": [
  {
   "cell_type": "markdown",
   "id": "77e9ed45",
   "metadata": {},
   "source": [
    "31218-정윤호-0309-1\n",
    "\n",
    "# 1.출력명령어\n",
    "### 출력 명령어 형식\n",
    "print( 출력할 내용 )\n"
   ]
  },
  {
   "cell_type": "code",
   "execution_count": 3,
   "id": "1bf6f80a",
   "metadata": {},
   "outputs": [
    {
     "name": "stdout",
     "output_type": "stream",
     "text": [
      "문자\n",
      "1307\n"
     ]
    }
   ],
   "source": [
    "print('문자')\n",
    "print ('1307')"
   ]
  },
  {
   "cell_type": "markdown",
   "id": "0c38863c",
   "metadata": {},
   "source": [
    "### 문자는 따움표로 갑싸 주여야 함\n",
    "> print(\"\"),.print(')"
   ]
  }
 ],
 "metadata": {
  "kernelspec": {
   "display_name": "Python 3 (ipykernel)",
   "language": "python",
   "name": "python3"
  },
  "language_info": {
   "codemirror_mode": {
    "name": "ipython",
    "version": 3
   },
   "file_extension": ".py",
   "mimetype": "text/x-python",
   "name": "python",
   "nbconvert_exporter": "python",
   "pygments_lexer": "ipython3",
   "version": "3.9.7"
  }
 },
 "nbformat": 4,
 "nbformat_minor": 5
}
